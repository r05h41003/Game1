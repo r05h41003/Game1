{
  "nbformat": 4,
  "nbformat_minor": 0,
  "metadata": {
    "colab": {
      "name": "b09105041.ipynb",
      "provenance": [],
      "collapsed_sections": [],
      "include_colab_link": true
    },
    "kernelspec": {
      "name": "python3",
      "display_name": "Python 3"
    },
    "language_info": {
      "name": "python"
    }
  },
  "cells": [
    {
      "cell_type": "markdown",
      "metadata": {
        "id": "view-in-github",
        "colab_type": "text"
      },
      "source": [
        "<a href=\"https://colab.research.google.com/github/r05h41003/Game1/blob/main/b09105041.ipynb\" target=\"_parent\"><img src=\"https://colab.research.google.com/assets/colab-badge.svg\" alt=\"Open In Colab\"/></a>"
      ]
    },
    {
      "cell_type": "markdown",
      "metadata": {
        "id": "AymuyQieh84Y"
      },
      "source": [
        "1. This Colab is designed for the course \"**Computer Programming in Python**\" instructed by Tse-Yu Lin.\n",
        "\n",
        "2. First, copy this Colab notebook to your Drive. Then, read the instruction of this assignment. \n",
        "\n",
        "3. Rename copied notebbok to **[Student ID]_assignment07.ipynb**. For example, **D06946003_assignment07.ipynb**\n",
        "\n",
        "4. When you complete your assignment, you need to:\n",
        "\n",
        "  a. First, download your Colab notebook as a IPYNB file\n",
        "\n",
        "  b. Next, upload your Colab notebook to \n",
        "    - <a href=\"https://drive.google.com/drive/folders/1cd2l5J-K4v_saSipiFIiLHglm-Mt7lM8?usp=sharing\" target=\"_blank\">here</a> for 01 Session (Wednesday 567)\n",
        "    - <a href=\"https://drive.google.com/drive/folders/178O-20gHRPcThvLYZ9Nev2KiDpSxepjt?usp=sharing\" target=\"_blank\">here</a> for 02 Session (Wednesday 89X)\n",
        "    - <a href=\"https://drive.google.com/drive/folders/1TZIoSb9Md-Tg4NqtFky4VAtz23w4nukK?usp=sharing\" target=\"_blank\">here</a> for 03 Session (Thursday 345)\n",
        "    \n",
        "    before **2022/04/12 04:12 AM (Taipei, UTC + 8:00)**\n",
        "\n",
        "  c. Then, please submit the link of your **uploaded** file to NTU COOL. \n",
        "  \n",
        "  The link of **uploaded** IPYNB file can be found by clicking **Share>Get Link** on the top right.\n",
        "  \n",
        "Note that you can re-submit your assigment by replacing the old one.\n"
      ]
    },
    {
      "cell_type": "markdown",
      "metadata": {
        "id": "cS296kiqkYbi"
      },
      "source": [
        "## Personal Information\n",
        "Please fill in your details below.\n",
        "\n",
        "Name:程品榮\n",
        "\n",
        "Student ID:b09105041\n",
        "\n",
        "Department/Program: 人類二"
      ]
    },
    {
      "cell_type": "code",
      "metadata": {
        "id": "qnES-TmTBrcy"
      },
      "source": [
        "# Load packages\n",
        "import matplotlib.pyplot as plt\n",
        "import numpy as np\n",
        "import pandas as pd\n",
        "import random\n",
        "\n",
        "# Used for interact\n",
        "from ipywidgets import interact, interact_manual, IntSlider, IntText"
      ],
      "execution_count": null,
      "outputs": []
    },
    {
      "cell_type": "markdown",
      "metadata": {
        "id": "xFgyJZ_dlYGR"
      },
      "source": [
        "## Practice Problems for Control Flows\n",
        "\n",
        "In this week, we showed you how to use if-statement, for-loop and while-loop to process specific operations on str, int, list, etc.\n",
        "\n",
        "In this assignment, we would like you to practice what we have done in the class."
      ]
    },
    {
      "cell_type": "markdown",
      "metadata": {
        "id": "v3VpOuecZ4iT"
      },
      "source": [
        "### 1. Dinner Recommendation System\n",
        "\n",
        "I don't know where to have my dinner today. I'll let Python to suggest me the place for my dinner.\n",
        "\n",
        "Please complete the following ``eat()`` function to let Python program decide to eat either\n",
        "* fondue (起司火鍋), or,\n",
        "* pizza (披薩，但是上面沒有鳳梨). \n",
        "\n"
      ]
    },
    {
      "cell_type": "code",
      "source": [
        "# [TODO] Complete the eat() function, you can use if-else statement or other methods to define the desired function\n",
        "def eat(number):\n",
        "    \"\"\" Description of eat function\n",
        "    Parametes: \n",
        "        args: an int \n",
        "\n",
        "      - If number is even, then it outputs \"fondue\". Note that this output a string.\n",
        "      - If number is odd, then it outputs \"pizza\". Note that this output a string. \n",
        "\n",
        "    \"\"\"\n",
        "    if number%2 ==0:\n",
        "        return(\"fondue\")\n",
        "    else:\n",
        "        return (\"pizza\")"
      ],
      "metadata": {
        "id": "EVOF1CzFQkLi"
      },
      "execution_count": null,
      "outputs": []
    },
    {
      "cell_type": "code",
      "source": [
        "# [RUN] Randomly generate an integer from 1 to 100 and store it in number and output \"fondue\" or \"pizza\"\n",
        "number = random.randint(1, 100)\n",
        "print(f\"The random integer I draw is: {number}\")\n",
        "print(f\"The dinner I want to have is: {eat(number)}\")"
      ],
      "metadata": {
        "id": "HrPQ8QIRPHrj",
        "colab": {
          "base_uri": "https://localhost:8080/"
        },
        "outputId": "63e41424-382f-4b3f-c795-eba757ae52f9"
      },
      "execution_count": null,
      "outputs": [
        {
          "output_type": "stream",
          "name": "stdout",
          "text": [
            "The random integer I draw is: 75\n",
            "The dinner I want to have is: pizza\n"
          ]
        }
      ]
    },
    {
      "cell_type": "markdown",
      "metadata": {
        "id": "aTe883CxXHbd"
      },
      "source": [
        "### 2. Ovuvuevuevue Enyetuenwuevue Ugbemugbem Ossas\n",
        "\n",
        "There is a African whose name is \n",
        "$$\n",
        "\\text{Ovuvuevuevue Enyetuenwuevue Ugbemugbem Ossas}\n",
        "$$\n",
        "\n",
        "Below, we define a str called ``OEUO_name`` to store his name. \n",
        "\n",
        "Now, bssed on his name, we want to do two things:\n",
        "1. Please print alphabets in ``OEUO_name`` whose index is odd. Alphabets are separated with a space in between. \n",
        "2. Define and return a list by collecting all alphabets (exclude space) in ``OEUO_name``.\n",
        "\n",
        "**Expected Output:**\n",
        "```python\n",
        "v v e u v e n e u n u v e g e u b m s a \n",
        "```\n"
      ]
    },
    {
      "cell_type": "code",
      "source": [
        "OEUO_name = \"OvuvuevuevueEnyetuenwuevueUgbemugbemOssas\""
      ],
      "metadata": {
        "id": "yq7mx6SDDAFc"
      },
      "execution_count": null,
      "outputs": []
    },
    {
      "cell_type": "code",
      "source": [
        "# [TODO] Wirte a program to print the desired result\n",
        "OEUO_name[1:42:2]\n",
        "list(OEUO_name[1:42:2])\n",
        "x=list(OEUO_name[1:42:2])\n",
        "for i in (x):\n",
        "    print(i+\" \")\n",
        "   "
      ],
      "metadata": {
        "colab": {
          "base_uri": "https://localhost:8080/"
        },
        "id": "87PVzhKGQPgT",
        "outputId": "ead76c10-be8e-43b9-fa73-b5a657434ebb"
      },
      "execution_count": null,
      "outputs": [
        {
          "output_type": "stream",
          "name": "stdout",
          "text": [
            "v \n",
            "v \n",
            "e \n",
            "u \n",
            "v \n",
            "e \n",
            "n \n",
            "e \n",
            "u \n",
            "n \n",
            "u \n",
            "v \n",
            "e \n",
            "g \n",
            "e \n",
            "u \n",
            "b \n",
            "m \n",
            "s \n",
            "a \n"
          ]
        }
      ]
    },
    {
      "cell_type": "markdown",
      "metadata": {
        "id": "2xyUuHjxIANw"
      },
      "source": [
        "### 3. Print Something with Special Pattern, Episode I\n",
        "\n",
        "I haven't seen a tree in a long time, and I miss it, so let's have python draw it for me.\n",
        "\n",
        "### Complete a function that enables python to draw the tree.\n",
        "\n",
        "### **Expected Output:**\n",
        "\n",
        "<p align=\"left\">\n",
        "  <img src=\"https://drive.google.com/uc?export=view&id=1oaMlXwr3mibDe5eEp5EB80bNyy37qTUe\", width=\"10%\"\n",
        "   />\n",
        "</p>"
      ]
    },
    {
      "cell_type": "code",
      "metadata": {
        "id": "eQBp4cvefcgS",
        "colab": {
          "base_uri": "https://localhost:8080/"
        },
        "outputId": "242e593e-5276-4c4f-e60e-5771e5efc147"
      },
      "source": [
        "# [TODO] Write a program to print the expected result above\n",
        "for i in range(1,6,1):\n",
        "    print(' '*(6-i)+\"*\"*(2*i-1))\n",
        "for i in range(1,4):\n",
        "    print(' '*(4)+\"*\"*3)"
      ],
      "execution_count": null,
      "outputs": [
        {
          "output_type": "stream",
          "name": "stdout",
          "text": [
            "     *\n",
            "    ***\n",
            "   *****\n",
            "  *******\n",
            " *********\n",
            "    ***\n",
            "    ***\n",
            "    ***\n"
          ]
        }
      ]
    },
    {
      "cell_type": "markdown",
      "source": [
        "### 4. Print Something with Special Pattern, Episode II\n",
        "\n",
        "Please complete the following function that enables Python to draw a tree with specified width and root heigh.\n",
        "\n",
        "Note that width must be an odd number whose values is at least 3. "
      ],
      "metadata": {
        "id": "e-gf3GxfG1-R"
      }
    },
    {
      "cell_type": "code",
      "source": [
        "# [TODO] Complete the functin tree_gen() below to draw a tree with the desired pattern\n",
        "def tree_gen(width=5, height=3):\n",
        "    while width <3:\n",
        "        return\"width must at least 3\"\n",
        "    for i in range(width):\n",
        "        print(' '*(width-i)+\"*\"*(2*i-1))\n",
        "    for i in range(height):\n",
        "        print(' '*(4)+\"*\"*3)\n",
        "    \n"
      ],
      "metadata": {
        "id": "Oc6b5_ovG2EQ"
      },
      "execution_count": null,
      "outputs": []
    },
    {
      "cell_type": "code",
      "source": [
        "tree_gen()"
      ],
      "metadata": {
        "colab": {
          "base_uri": "https://localhost:8080/"
        },
        "id": "HCHvJQkjMhbG",
        "outputId": "d28d617b-ca40-43a4-d900-87257cdb706d"
      },
      "execution_count": null,
      "outputs": [
        {
          "output_type": "stream",
          "name": "stdout",
          "text": [
            "     *\n",
            "    ***\n",
            "   *****\n",
            "  *******\n",
            " *********\n",
            "    ***\n",
            "    ***\n",
            "    ***\n"
          ]
        }
      ]
    },
    {
      "cell_type": "code",
      "source": [
        "tree_gen(6, 5)"
      ],
      "metadata": {
        "colab": {
          "base_uri": "https://localhost:8080/"
        },
        "id": "jeLD3B06Mj8c",
        "outputId": "bc76ddec-b0e3-4b85-e6f6-272858f28bca"
      },
      "execution_count": null,
      "outputs": [
        {
          "output_type": "stream",
          "name": "stdout",
          "text": [
            "      \n",
            "     *\n",
            "    ***\n",
            "   *****\n",
            "  *******\n",
            " *********\n",
            "    ***\n",
            "    ***\n",
            "    ***\n",
            "    ***\n",
            "    ***\n"
          ]
        }
      ]
    },
    {
      "cell_type": "code",
      "source": [
        "tree_gen(8, 3)"
      ],
      "metadata": {
        "colab": {
          "base_uri": "https://localhost:8080/"
        },
        "id": "P-6YWgPfN_7O",
        "outputId": "0c4c65e1-7bad-46c7-ea7d-7130712bbddb"
      },
      "execution_count": null,
      "outputs": [
        {
          "output_type": "stream",
          "name": "stdout",
          "text": [
            "        \n",
            "       *\n",
            "      ***\n",
            "     *****\n",
            "    *******\n",
            "   *********\n",
            "  ***********\n",
            " *************\n",
            "    ***\n",
            "    ***\n",
            "    ***\n"
          ]
        }
      ]
    },
    {
      "cell_type": "code",
      "source": [
        "tree_gen(17, 5)"
      ],
      "metadata": {
        "colab": {
          "base_uri": "https://localhost:8080/"
        },
        "id": "CTCHYjJhN_9b",
        "outputId": "83eac3dd-09b9-43ab-e1d4-fdd0543bb8ba"
      },
      "execution_count": null,
      "outputs": [
        {
          "output_type": "stream",
          "name": "stdout",
          "text": [
            "                 \n",
            "                *\n",
            "               ***\n",
            "              *****\n",
            "             *******\n",
            "            *********\n",
            "           ***********\n",
            "          *************\n",
            "         ***************\n",
            "        *****************\n",
            "       *******************\n",
            "      *********************\n",
            "     ***********************\n",
            "    *************************\n",
            "   ***************************\n",
            "  *****************************\n",
            " *******************************\n",
            "    ***\n",
            "    ***\n",
            "    ***\n",
            "    ***\n",
            "    ***\n"
          ]
        }
      ]
    },
    {
      "cell_type": "markdown",
      "metadata": {
        "id": "WnUqTqDqfakG"
      },
      "source": [
        "### 5. Multiplication Table\n",
        "\n",
        "I can't remember the multiplication table, so let Python print it to me.   \n",
        "\n",
        "Please complete a function to print out the multiplication table using Python.\n",
        "\n",
        "Note that equations on the same line is separated with TWO spacess.\n",
        "\n",
        "### **Expected Output:**\n",
        "\n",
        "<p align=\"left\">\n",
        "  <img src=\"https://drive.google.com/uc?export=view&id=1J_GZ4v9YcwkbE3OmSpIwTUFT87P_ZCQ-\", width=\"100%\"\n",
        "   />\n",
        "</p>\n",
        "\n",
        "In this exercise, we want to write a Python function to generate any AxB Multiplication Table. Please check following examples. "
      ]
    },
    {
      "cell_type": "code",
      "metadata": {
        "id": "YnPmhvLBYlL4"
      },
      "source": [
        "# [TODO] Complete the function multiplication_table() below to print the multiplication table from 1x1=1 till axb = ab\n",
        "def multiplication_table(a=9, b=9):\n",
        "    for i in range(1,a+1):\n",
        "        for w in range(1,b+1):\n",
        "            print(str(i)+\"x\"+str(w)+\"=\"+str(i*w)+' ')"
      ],
      "execution_count": null,
      "outputs": []
    },
    {
      "cell_type": "code",
      "source": [
        "for i in range(1, 10):\n",
        "    for j in range(1, 10):\n",
        "        print(str(i) + 'x' + str(j) + '=' + str(i * j) + ' ', end='')"
      ],
      "metadata": {
        "colab": {
          "base_uri": "https://localhost:8080/"
        },
        "id": "UvmDya0azBsT",
        "outputId": "5e98176b-7c08-4ead-f006-ea8c3cbc5917"
      },
      "execution_count": null,
      "outputs": [
        {
          "output_type": "stream",
          "name": "stdout",
          "text": [
            "1x1=1 1x2=2 1x3=3 1x4=4 1x5=5 1x6=6 1x7=7 1x8=8 1x9=9 2x1=2 2x2=4 2x3=6 2x4=8 2x5=10 2x6=12 2x7=14 2x8=16 2x9=18 3x1=3 3x2=6 3x3=9 3x4=12 3x5=15 3x6=18 3x7=21 3x8=24 3x9=27 4x1=4 4x2=8 4x3=12 4x4=16 4x5=20 4x6=24 4x7=28 4x8=32 4x9=36 5x1=5 5x2=10 5x3=15 5x4=20 5x5=25 5x6=30 5x7=35 5x8=40 5x9=45 6x1=6 6x2=12 6x3=18 6x4=24 6x5=30 6x6=36 6x7=42 6x8=48 6x9=54 7x1=7 7x2=14 7x3=21 7x4=28 7x5=35 7x6=42 7x7=49 7x8=56 7x9=63 8x1=8 8x2=16 8x3=24 8x4=32 8x5=40 8x6=48 8x7=56 8x8=64 8x9=72 9x1=9 9x2=18 9x3=27 9x4=36 9x5=45 9x6=54 9x7=63 9x8=72 9x9=81 "
          ]
        }
      ]
    },
    {
      "cell_type": "code",
      "source": [
        "# This should return 9x9 multiplication table\n",
        "multiplication_table(6,6)"
      ],
      "metadata": {
        "colab": {
          "base_uri": "https://localhost:8080/"
        },
        "id": "Ag5RKTMaOlPG",
        "outputId": "e07e82a5-863a-43c4-9169-ad0d6642633a"
      },
      "execution_count": null,
      "outputs": [
        {
          "output_type": "stream",
          "name": "stdout",
          "text": [
            "1x1=1 \n",
            "1x2=2 \n",
            "1x3=3 \n",
            "1x4=4 \n",
            "1x5=5 \n",
            "1x6=6 \n",
            "2x1=2 \n",
            "2x2=4 \n",
            "2x3=6 \n",
            "2x4=8 \n",
            "2x5=10 \n",
            "2x6=12 \n",
            "3x1=3 \n",
            "3x2=6 \n",
            "3x3=9 \n",
            "3x4=12 \n",
            "3x5=15 \n",
            "3x6=18 \n",
            "4x1=4 \n",
            "4x2=8 \n",
            "4x3=12 \n",
            "4x4=16 \n",
            "4x5=20 \n",
            "4x6=24 \n",
            "5x1=5 \n",
            "5x2=10 \n",
            "5x3=15 \n",
            "5x4=20 \n",
            "5x5=25 \n",
            "5x6=30 \n",
            "6x1=6 \n",
            "6x2=12 \n",
            "6x3=18 \n",
            "6x4=24 \n",
            "6x5=30 \n",
            "6x6=36 \n"
          ]
        }
      ]
    },
    {
      "cell_type": "code",
      "source": [
        "# This should return 4x5 multiplication table\n",
        "multiplication_table(3, 5)"
      ],
      "metadata": {
        "id": "B8mGBk7cWcqH",
        "colab": {
          "base_uri": "https://localhost:8080/"
        },
        "outputId": "d8e57834-ba57-4160-9b61-8b6fd44ae963"
      },
      "execution_count": null,
      "outputs": [
        {
          "output_type": "stream",
          "name": "stdout",
          "text": [
            "1x1=1 \n",
            "1x2=2 \n",
            "1x3=3 \n",
            "1x4=4 \n",
            "1x5=5 \n",
            "2x1=2 \n",
            "2x2=4 \n",
            "2x3=6 \n",
            "2x4=8 \n",
            "2x5=10 \n",
            "3x1=3 \n",
            "3x2=6 \n",
            "3x3=9 \n",
            "3x4=12 \n",
            "3x5=15 \n"
          ]
        }
      ]
    },
    {
      "cell_type": "markdown",
      "source": [
        "# (Bonus) Design your own Python exercise \n",
        "\n",
        "In this part, you have a chance to be a Pyton instructor. You may each additional 1 point in this assignment with your creativity.\n",
        "\n",
        "Based on recent course materials, please propose a Python exercise for other classmates. \n",
        "\n",
        "Note that you don't need to answer what you propose here. However, you need to describe your exercise as much detail as you can. "
      ],
      "metadata": {
        "id": "KgMBcN5gwx0t"
      }
    },
    {
      "cell_type": "code",
      "source": [
        ""
      ],
      "metadata": {
        "id": "cKtYjRKKw1Fk"
      },
      "execution_count": null,
      "outputs": []
    }
  ]
}